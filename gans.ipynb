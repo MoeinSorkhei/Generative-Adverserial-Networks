{
 "cells": [
  {
   "cell_type": "markdown",
   "metadata": {},
   "source": [
    "# Generative Adverserial Networks - Experiment 1\n",
    "\n",
    "This experiment has to do with applying GANs to the gray-scale images of hand-written digits in the MNIST data set.\n",
    "The full configuration (some of which not necessarily useful):\n",
    " - Python 3.6\n",
    " - Pythorch version 1.0.1\n",
    " - Torchvision version 0.2.2\n",
    " - Tensorflow version 1.13.1"
   ]
  },
  {
   "cell_type": "code",
   "execution_count": 66,
   "metadata": {},
   "outputs": [
    {
     "name": "stdout",
     "output_type": "stream",
     "text": [
      "The autoreload extension is already loaded. To reload it, use:\n",
      "  %reload_ext autoreload\n"
     ]
    }
   ],
   "source": [
    "\"\"\"\n",
    "    References for the code snippets that are not mine:\n",
    "    [1] https://github.com/diegoalejogm/gans/find/master\n",
    "\"\"\"\n",
    "\n",
    "%load_ext autoreload\n",
    "%matplotlib inline"
   ]
  },
  {
   "cell_type": "code",
   "execution_count": 47,
   "metadata": {},
   "outputs": [],
   "source": [
    "%autoreload 2\n",
    "\n",
    "from IPython import display\n",
    "\n",
    "from utils import Logger\n",
    "import gans\n",
    "\n",
    "import torch\n",
    "from torch import nn, optim\n",
    "from torch.autograd.variable import Variable\n",
    "from torchvision import transforms, datasets"
   ]
  },
  {
   "cell_type": "code",
   "execution_count": 48,
   "metadata": {},
   "outputs": [],
   "source": [
    "DATA_FOLDER = './torch_data/basic_gans/MNIST'"
   ]
  },
  {
   "cell_type": "code",
   "execution_count": 49,
   "metadata": {},
   "outputs": [],
   "source": [
    "data = gans.fetch_mnist_data(DATA_FOLDER) # Fetching the data\n",
    "data_loader = torch.utils.data.DataLoader(data, batch_size=100, shuffle=True)\n",
    "n_batches = len(data_loader)  # The number of batches"
   ]
  },
  {
   "cell_type": "code",
   "execution_count": 50,
   "metadata": {},
   "outputs": [],
   "source": [
    "discriminator = gans.Discriminator()\n",
    "generator = gans.Generator()\n",
    "\n",
    "if torch.cuda.is_available():  # Using GPUs if possible\n",
    "    discriminator.cuda()\n",
    "    generator.cuda()"
   ]
  },
  {
   "cell_type": "markdown",
   "metadata": {},
   "source": [
    "## Optimization\n",
    "For optimization, the commonly used method is the __mini-batch gradient descent algorithm__ for minimizing the loss function. We have already defined the batch size, and the rest of the configurations are specified below (more explanation is to be brought here.\n",
    "\n",
    "\n",
    "### The Cross-entropy loss\n",
    "Given that the true class for data point $\\textbf{x}_n$ is $y_n$, the loss is defined as $l=-log(p_{y_n})$, where $p_{y_n}$ is the probability of the data point belonging to the true class $y_n$.\n",
    "\n",
    "Please note that the gradient of the showd function w.r.t. $\\theta_d$ should be ascended, while its the other way round for the gradient w.r.t. $\\theta_g$. To be consistent, we consider label 1 for all the real images and 0 for the fake ones.\n",
    "\n",
    "The gradients are computed as follows, where D and G are the output of the networks."
   ]
  },
  {
   "cell_type": "markdown",
   "metadata": {},
   "source": [
    "<img src=\"img/funcs.png\">"
   ]
  },
  {
   "cell_type": "code",
   "execution_count": 51,
   "metadata": {},
   "outputs": [],
   "source": [
    "# Using Adam for optimization (still need to read more about it)\n",
    "# The learning rate is an arbitrary choice right now (need to read more)\n",
    "\n",
    "d_optimizer = optim.Adam(discriminator.parameters(), lr=0.0002)\n",
    "g_optimizer = optim.Adam(generator.parameters(), lr=0.0002)\n",
    "\n",
    "# The binary cross-entropy loss function\n",
    "loss = nn.BCELoss()"
   ]
  },
  {
   "cell_type": "markdown",
   "metadata": {},
   "source": [
    "Using the formulas for the functions that are going to be minimized/maximized and our loss function, it is straightforward to code those functions."
   ]
  },
  {
   "cell_type": "code",
   "execution_count": 52,
   "metadata": {},
   "outputs": [],
   "source": [
    "def train_discriminator(optimizer, real_data, fake_data):\n",
    "    \"\"\"\n",
    "        The code is from [1] with small tweaks. The name of the value that is going to be maximized should not be\n",
    "        loss, I believ, as naturally loss is a quantity which we try to minimize, while this is the other way round here.\n",
    "    \"\"\"\n",
    "    # Reset gradients\n",
    "    optimizer.zero_grad()\n",
    "    \n",
    "    # 1.1 Train on Real Data\n",
    "    prediction_real = discriminator(real_data)\n",
    "    \n",
    "    # Calculate error and backpropagate\n",
    "    error_real = loss(prediction_real, gans.real_data_target(real_data.size(0)))\n",
    "    error_real.backward()\n",
    "\n",
    "    # 1.2 Train on Fake Data\n",
    "    prediction_fake = discriminator(fake_data)\n",
    "    \n",
    "    # Calculate error and backpropagate\n",
    "    error_fake = loss(prediction_fake, gans.fake_data_target(real_data.size(0)))\n",
    "    error_fake.backward()\n",
    "    \n",
    "    # 1.3 Update weights with gradients\n",
    "    optimizer.step()\n",
    "    \n",
    "    # Return error\n",
    "    return error_real + error_fake, prediction_real, prediction_fake\n",
    "\n",
    "\n",
    "def train_generator(optimizer, fake_data):\n",
    "    \"\"\"\n",
    "        According to the paper: \"Rather than minimizing log(1- D(G(z))),\n",
    "        training the Generator to maximize log D(G(z)) will provide much stronger\n",
    "        gradients early in training\" (still should read about it).\n",
    "    \"\"\"\n",
    "    # Reset gradients\n",
    "    optimizer.zero_grad()\n",
    "    \n",
    "    # Sample noise and generate fake data\n",
    "    prediction = discriminator(fake_data)  # This is D(G(z_i)) for each z_i\n",
    "    \n",
    "    # Calculate error and backpropagate\n",
    "    error = loss(prediction, gans.real_data_target(prediction.size(0)))\n",
    "    error.backward()\n",
    "    \n",
    "    # Update weights with gradients\n",
    "    optimizer.step()\n",
    "    return error"
   ]
  },
  {
   "cell_type": "markdown",
   "metadata": {},
   "source": [
    "## Generating samples and running"
   ]
  },
  {
   "cell_type": "code",
   "execution_count": 62,
   "metadata": {},
   "outputs": [],
   "source": [
    "n_test_samples = 16  # The number of test samples\n",
    "test_noise = gans.generate_noise(n_test_samples)\n",
    "\n",
    "# Number of steps to apply to the discriminator, here is 1 for our simple experiment\n",
    "d_steps = 1  # In Goodfellow et al. 2014 this variable is assigned to 1\n",
    "\n",
    "# Number of epochs - iterations over the whole training data\n",
    "n_epochs = 20"
   ]
  },
  {
   "cell_type": "code",
   "execution_count": 63,
   "metadata": {},
   "outputs": [],
   "source": [
    "# gans.run_gan(generator, discriminator, data_loader, n_epochs=1)"
   ]
  },
  {
   "cell_type": "code",
   "execution_count": 65,
   "metadata": {},
   "outputs": [
    {
     "data": {
      "image/png": "[encoded data removed]",
      "text/plain": [
       "<Figure size 1152x1152 with 1 Axes>"
      ]
     },
     "metadata": {},
     "output_type": "display_data"
    },
    {
     "name": "stdout",
     "output_type": "stream",
     "text": [
      "Epoch: [19/20], Batch Num: [500/600]\n",
      "Discriminator Loss: 0.7911, Generator Loss: 2.0421\n",
      "D(x): 0.6920, D(G(z)): 0.2177\n"
     ]
    }
   ],
   "source": [
    "logger = Logger(model_name='VGAN', data_name='MNIST')\n",
    "\n",
    "for epoch in range(n_epochs):\n",
    "    for n_batch, (real_batch,_) in enumerate(data_loader):\n",
    "\n",
    "        # 1. Train Discriminator\n",
    "        real_data = Variable(gans.images_to_vectors(real_batch))\n",
    "        if torch.cuda.is_available(): real_data = real_data.cuda()\n",
    "        \n",
    "        # Generate fake data\n",
    "        fake_data = generator(gans.generate_noise(real_data.size(0))).detach()\n",
    "        \n",
    "        # Train D\n",
    "        d_error, d_pred_real, d_pred_fake = train_discriminator(d_optimizer,\n",
    "                                                                real_data, fake_data)\n",
    "\n",
    "        \n",
    "        \n",
    "        # 2. Train Generator\n",
    "        # Generate fake data\n",
    "        fake_data = generator(gans.generate_noise(real_batch.size(0)))\n",
    "        \n",
    "        # Train G\n",
    "        g_error = train_generator(g_optimizer, fake_data)\n",
    "        \n",
    "        # Log error\n",
    "        logger.log(d_error, g_error, epoch, n_batch, n_batches)\n",
    "\n",
    "        # Display Progress\n",
    "        if (n_batch) % 100 == 0:\n",
    "            display.clear_output(True)\n",
    "            \n",
    "            # Display Images\n",
    "            test_images = gans.vectors_to_images(generator(test_noise)).data.cpu()\n",
    "            logger.log_images(test_images, n_test_samples, epoch, n_batch, n_batches);\n",
    "            \n",
    "            # Display status Logs\n",
    "            logger.display_status(\n",
    "                epoch, n_epochs, n_batch, n_batches,\n",
    "                d_error, g_error, d_pred_real, d_pred_fake\n",
    "            )\n",
    "        \n",
    "        # Model Checkpoints\n",
    "        logger.save_models(generator, discriminator, epoch)"
   ]
  },
  {
   "cell_type": "code",
   "execution_count": null,
   "metadata": {},
   "outputs": [],
   "source": []
  }
 ],
 "metadata": {
  "kernelspec": {
   "display_name": "Python 3",
   "language": "python",
   "name": "python3"
  },
  "language_info": {
   "codemirror_mode": {
    "name": "ipython",
    "version": 3
   },
   "file_extension": ".py",
   "mimetype": "text/x-python",
   "name": "python",
   "nbconvert_exporter": "python",
   "pygments_lexer": "ipython3",
   "version": "3.6.8"
  }
 },
 "nbformat": 4,
 "nbformat_minor": 2
}
